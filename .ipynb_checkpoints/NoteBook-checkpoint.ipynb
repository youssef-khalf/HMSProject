{
 "cells": [
  {
   "cell_type": "markdown",
   "id": "e35118b3-5e59-49ac-9dc7-f59028c0ccc2",
   "metadata": {},
   "source": [
    "## Get Packages "
   ]
  },
  {
   "cell_type": "code",
   "execution_count": 1,
   "id": "40d35aba-7a6a-406e-8d4e-ed598729c22e",
   "metadata": {},
   "outputs": [],
   "source": [
    "import pandas as pd\n",
    "import seaborn as sns\n",
    "import matplotlib.pyplot as plt"
   ]
  },
  {
   "cell_type": "markdown",
   "id": "760a0ed3-f437-460b-989c-f61615b88e54",
   "metadata": {},
   "source": [
    "## Read The Data And Show Some Info"
   ]
  },
  {
   "cell_type": "code",
   "execution_count": 2,
   "id": "79f1f0f6-c8ff-40a3-ac41-795a055872dd",
   "metadata": {},
   "outputs": [],
   "source": [
    "df= pd.read_csv('./TheData/train.csv')"
   ]
  },
  {
   "cell_type": "code",
   "execution_count": 3,
   "id": "aa2ea687-f031-42ae-bff7-0b3681bc3360",
   "metadata": {},
   "outputs": [
    {
     "name": "stdout",
     "output_type": "stream",
     "text": [
      "<class 'pandas.core.frame.DataFrame'>\n",
      "RangeIndex: 106800 entries, 0 to 106799\n",
      "Data columns (total 15 columns):\n",
      " #   Column                            Non-Null Count   Dtype  \n",
      "---  ------                            --------------   -----  \n",
      " 0   eeg_id                            106800 non-null  int64  \n",
      " 1   eeg_sub_id                        106800 non-null  int64  \n",
      " 2   eeg_label_offset_seconds          106800 non-null  float64\n",
      " 3   spectrogram_id                    106800 non-null  int64  \n",
      " 4   spectrogram_sub_id                106800 non-null  int64  \n",
      " 5   spectrogram_label_offset_seconds  106800 non-null  float64\n",
      " 6   label_id                          106800 non-null  int64  \n",
      " 7   patient_id                        106800 non-null  int64  \n",
      " 8   expert_consensus                  106800 non-null  object \n",
      " 9   seizure_vote                      106800 non-null  int64  \n",
      " 10  lpd_vote                          106800 non-null  int64  \n",
      " 11  gpd_vote                          106800 non-null  int64  \n",
      " 12  lrda_vote                         106800 non-null  int64  \n",
      " 13  grda_vote                         106800 non-null  int64  \n",
      " 14  other_vote                        106800 non-null  int64  \n",
      "dtypes: float64(2), int64(12), object(1)\n",
      "memory usage: 12.2+ MB\n"
     ]
    }
   ],
   "source": [
    "df.info()"
   ]
  },
  {
   "cell_type": "code",
   "execution_count": 4,
   "id": "276215d7-347b-4b18-ac4d-7d263ef7f36b",
   "metadata": {},
   "outputs": [
    {
     "data": {
      "text/html": [
       "<div>\n",
       "<style scoped>\n",
       "    .dataframe tbody tr th:only-of-type {\n",
       "        vertical-align: middle;\n",
       "    }\n",
       "\n",
       "    .dataframe tbody tr th {\n",
       "        vertical-align: top;\n",
       "    }\n",
       "\n",
       "    .dataframe thead th {\n",
       "        text-align: right;\n",
       "    }\n",
       "</style>\n",
       "<table border=\"1\" class=\"dataframe\">\n",
       "  <thead>\n",
       "    <tr style=\"text-align: right;\">\n",
       "      <th></th>\n",
       "      <th>eeg_id</th>\n",
       "      <th>eeg_sub_id</th>\n",
       "      <th>eeg_label_offset_seconds</th>\n",
       "      <th>spectrogram_id</th>\n",
       "      <th>spectrogram_sub_id</th>\n",
       "      <th>spectrogram_label_offset_seconds</th>\n",
       "      <th>label_id</th>\n",
       "      <th>patient_id</th>\n",
       "      <th>expert_consensus</th>\n",
       "      <th>seizure_vote</th>\n",
       "      <th>lpd_vote</th>\n",
       "      <th>gpd_vote</th>\n",
       "      <th>lrda_vote</th>\n",
       "      <th>grda_vote</th>\n",
       "      <th>other_vote</th>\n",
       "    </tr>\n",
       "  </thead>\n",
       "  <tbody>\n",
       "    <tr>\n",
       "      <th>9317</th>\n",
       "      <td>2221330234</td>\n",
       "      <td>17</td>\n",
       "      <td>86.0</td>\n",
       "      <td>172731638</td>\n",
       "      <td>202</td>\n",
       "      <td>3984.0</td>\n",
       "      <td>1011128187</td>\n",
       "      <td>35225</td>\n",
       "      <td>LRDA</td>\n",
       "      <td>3</td>\n",
       "      <td>2</td>\n",
       "      <td>0</td>\n",
       "      <td>5</td>\n",
       "      <td>0</td>\n",
       "      <td>2</td>\n",
       "    </tr>\n",
       "    <tr>\n",
       "      <th>47691</th>\n",
       "      <td>3578878147</td>\n",
       "      <td>2</td>\n",
       "      <td>62.0</td>\n",
       "      <td>934830567</td>\n",
       "      <td>2</td>\n",
       "      <td>62.0</td>\n",
       "      <td>3871867998</td>\n",
       "      <td>27477</td>\n",
       "      <td>Other</td>\n",
       "      <td>0</td>\n",
       "      <td>0</td>\n",
       "      <td>0</td>\n",
       "      <td>2</td>\n",
       "      <td>6</td>\n",
       "      <td>7</td>\n",
       "    </tr>\n",
       "  </tbody>\n",
       "</table>\n",
       "</div>"
      ],
      "text/plain": [
       "           eeg_id  eeg_sub_id  eeg_label_offset_seconds  spectrogram_id  \\\n",
       "9317   2221330234          17                      86.0       172731638   \n",
       "47691  3578878147           2                      62.0       934830567   \n",
       "\n",
       "       spectrogram_sub_id  spectrogram_label_offset_seconds    label_id  \\\n",
       "9317                  202                            3984.0  1011128187   \n",
       "47691                   2                              62.0  3871867998   \n",
       "\n",
       "       patient_id expert_consensus  seizure_vote  lpd_vote  gpd_vote  \\\n",
       "9317        35225             LRDA             3         2         0   \n",
       "47691       27477            Other             0         0         0   \n",
       "\n",
       "       lrda_vote  grda_vote  other_vote  \n",
       "9317           5          0           2  \n",
       "47691          2          6           7  "
      ]
     },
     "execution_count": 4,
     "metadata": {},
     "output_type": "execute_result"
    }
   ],
   "source": [
    "df.sample(2)"
   ]
  },
  {
   "cell_type": "code",
   "execution_count": 8,
   "id": "22fd0e65-9664-47a2-9fe1-862db830ecf5",
   "metadata": {},
   "outputs": [
    {
     "name": "stdout",
     "output_type": "stream",
     "text": [
      "Train shape: (106800, 15)\n"
     ]
    }
   ],
   "source": [
    "print('Train shape:', df.shape )"
   ]
  },
  {
   "cell_type": "code",
   "execution_count": 9,
   "id": "7e309c6c-8a30-4ebd-9946-ef43da0a9dc7",
   "metadata": {},
   "outputs": [
    {
     "name": "stdout",
     "output_type": "stream",
     "text": [
      "Targets ['seizure_vote', 'lpd_vote', 'gpd_vote', 'lrda_vote', 'grda_vote', 'other_vote']\n"
     ]
    }
   ],
   "source": [
    "TARGETS = df.columns[-6:]\n",
    "print('Targets', list(TARGETS))"
   ]
  },
  {
   "cell_type": "code",
   "execution_count": 10,
   "id": "32c63a7c-dc45-4e6e-aea4-e16101f9a0b1",
   "metadata": {},
   "outputs": [],
   "source": [
    "train = df.groupby('eeg_id')[['spectrogram_id','spectrogram_label_offset_seconds']].agg(\n",
    "    {'spectrogram_id':'first','spectrogram_label_offset_seconds':'min'})"
   ]
  },
  {
   "cell_type": "code",
   "execution_count": 11,
   "id": "6292202c-9438-4f20-bd24-448ec80d1d85",
   "metadata": {},
   "outputs": [],
   "source": [
    "train.columns = ['spec_id','min']"
   ]
  },
  {
   "cell_type": "code",
   "execution_count": 12,
   "id": "435d3880-970e-4968-aaaa-cb5a8b642805",
   "metadata": {},
   "outputs": [],
   "source": [
    "Max = df.groupby('eeg_id')[['spectrogram_id','spectrogram_label_offset_seconds']].agg(\n",
    "    {'spectrogram_label_offset_seconds':'max'})\n",
    "train['max'] = Max"
   ]
  },
  {
   "cell_type": "code",
   "execution_count": 13,
   "id": "36a31287-7f62-4a94-9554-ffcc92be7731",
   "metadata": {},
   "outputs": [],
   "source": [
    "Patient = df.groupby('eeg_id')[['patient_id']].agg('first')\n",
    "train['patient_id'] = Patient"
   ]
  },
  {
   "cell_type": "code",
   "execution_count": 14,
   "id": "00330859-4b68-4cc8-8e43-aad51a25c73b",
   "metadata": {},
   "outputs": [],
   "source": [
    "Targets = df.groupby('eeg_id')[TARGETS].agg('sum')\n",
    "for t in TARGETS:\n",
    "    train[t] = Targets[t].values"
   ]
  },
  {
   "cell_type": "code",
   "execution_count": 15,
   "id": "f0ae7fa5-2856-4405-817d-874c21f0e839",
   "metadata": {},
   "outputs": [],
   "source": [
    "y_data = train[TARGETS].values\n",
    "y_data = y_data / y_data.sum(axis=1,keepdims=True)\n",
    "train[TARGETS] = y_data"
   ]
  },
  {
   "cell_type": "code",
   "execution_count": 16,
   "id": "6dc88efa-1d84-4bd6-a12f-7c6e65dfe022",
   "metadata": {},
   "outputs": [],
   "source": [
    "Decision = df.groupby('eeg_id')[['expert_consensus']].agg('first')\n",
    "train['Decision'] = Decision"
   ]
  },
  {
   "cell_type": "code",
   "execution_count": 17,
   "id": "6be552d8-bc85-4259-bfb9-ed06f44e52ec",
   "metadata": {},
   "outputs": [
    {
     "data": {
      "text/html": [
       "<div>\n",
       "<style scoped>\n",
       "    .dataframe tbody tr th:only-of-type {\n",
       "        vertical-align: middle;\n",
       "    }\n",
       "\n",
       "    .dataframe tbody tr th {\n",
       "        vertical-align: top;\n",
       "    }\n",
       "\n",
       "    .dataframe thead th {\n",
       "        text-align: right;\n",
       "    }\n",
       "</style>\n",
       "<table border=\"1\" class=\"dataframe\">\n",
       "  <thead>\n",
       "    <tr style=\"text-align: right;\">\n",
       "      <th></th>\n",
       "      <th>spec_id</th>\n",
       "      <th>min</th>\n",
       "      <th>max</th>\n",
       "      <th>patient_id</th>\n",
       "      <th>seizure_vote</th>\n",
       "      <th>lpd_vote</th>\n",
       "      <th>gpd_vote</th>\n",
       "      <th>lrda_vote</th>\n",
       "      <th>grda_vote</th>\n",
       "      <th>other_vote</th>\n",
       "      <th>Decision</th>\n",
       "    </tr>\n",
       "    <tr>\n",
       "      <th>eeg_id</th>\n",
       "      <th></th>\n",
       "      <th></th>\n",
       "      <th></th>\n",
       "      <th></th>\n",
       "      <th></th>\n",
       "      <th></th>\n",
       "      <th></th>\n",
       "      <th></th>\n",
       "      <th></th>\n",
       "      <th></th>\n",
       "      <th></th>\n",
       "    </tr>\n",
       "  </thead>\n",
       "  <tbody>\n",
       "    <tr>\n",
       "      <th>568657</th>\n",
       "      <td>789577333</td>\n",
       "      <td>0.0</td>\n",
       "      <td>16.0</td>\n",
       "      <td>20654</td>\n",
       "      <td>0.0</td>\n",
       "      <td>0.000000</td>\n",
       "      <td>0.25</td>\n",
       "      <td>0.000000</td>\n",
       "      <td>0.166667</td>\n",
       "      <td>0.583333</td>\n",
       "      <td>Other</td>\n",
       "    </tr>\n",
       "    <tr>\n",
       "      <th>582999</th>\n",
       "      <td>1552638400</td>\n",
       "      <td>0.0</td>\n",
       "      <td>38.0</td>\n",
       "      <td>20230</td>\n",
       "      <td>0.0</td>\n",
       "      <td>0.857143</td>\n",
       "      <td>0.00</td>\n",
       "      <td>0.071429</td>\n",
       "      <td>0.000000</td>\n",
       "      <td>0.071429</td>\n",
       "      <td>LPD</td>\n",
       "    </tr>\n",
       "    <tr>\n",
       "      <th>642382</th>\n",
       "      <td>14960202</td>\n",
       "      <td>1008.0</td>\n",
       "      <td>1032.0</td>\n",
       "      <td>5955</td>\n",
       "      <td>0.0</td>\n",
       "      <td>0.000000</td>\n",
       "      <td>0.00</td>\n",
       "      <td>0.000000</td>\n",
       "      <td>0.000000</td>\n",
       "      <td>1.000000</td>\n",
       "      <td>Other</td>\n",
       "    </tr>\n",
       "    <tr>\n",
       "      <th>751790</th>\n",
       "      <td>618728447</td>\n",
       "      <td>908.0</td>\n",
       "      <td>908.0</td>\n",
       "      <td>38549</td>\n",
       "      <td>0.0</td>\n",
       "      <td>0.000000</td>\n",
       "      <td>1.00</td>\n",
       "      <td>0.000000</td>\n",
       "      <td>0.000000</td>\n",
       "      <td>0.000000</td>\n",
       "      <td>GPD</td>\n",
       "    </tr>\n",
       "    <tr>\n",
       "      <th>778705</th>\n",
       "      <td>52296320</td>\n",
       "      <td>0.0</td>\n",
       "      <td>0.0</td>\n",
       "      <td>40955</td>\n",
       "      <td>0.0</td>\n",
       "      <td>0.000000</td>\n",
       "      <td>0.00</td>\n",
       "      <td>0.000000</td>\n",
       "      <td>0.000000</td>\n",
       "      <td>1.000000</td>\n",
       "      <td>Other</td>\n",
       "    </tr>\n",
       "  </tbody>\n",
       "</table>\n",
       "</div>"
      ],
      "text/plain": [
       "           spec_id     min     max  patient_id  seizure_vote  lpd_vote  \\\n",
       "eeg_id                                                                   \n",
       "568657   789577333     0.0    16.0       20654           0.0  0.000000   \n",
       "582999  1552638400     0.0    38.0       20230           0.0  0.857143   \n",
       "642382    14960202  1008.0  1032.0        5955           0.0  0.000000   \n",
       "751790   618728447   908.0   908.0       38549           0.0  0.000000   \n",
       "778705    52296320     0.0     0.0       40955           0.0  0.000000   \n",
       "\n",
       "        gpd_vote  lrda_vote  grda_vote  other_vote Decision  \n",
       "eeg_id                                                       \n",
       "568657      0.25   0.000000   0.166667    0.583333    Other  \n",
       "582999      0.00   0.071429   0.000000    0.071429      LPD  \n",
       "642382      0.00   0.000000   0.000000    1.000000    Other  \n",
       "751790      1.00   0.000000   0.000000    0.000000      GPD  \n",
       "778705      0.00   0.000000   0.000000    1.000000    Other  "
      ]
     },
     "execution_count": 17,
     "metadata": {},
     "output_type": "execute_result"
    }
   ],
   "source": [
    "train.head()"
   ]
  },
  {
   "cell_type": "markdown",
   "id": "9ab003c3-b4ee-46c1-b0a7-caa88367121c",
   "metadata": {},
   "source": [
    "## Show Heat Map Done By Atwan"
   ]
  },
  {
   "cell_type": "code",
   "execution_count": 26,
   "id": "f71a99dd-991d-40cf-8d52-6afd527c7b78",
   "metadata": {},
   "outputs": [],
   "source": [
    "correlation_matrix = train[TARGETS].corr()"
   ]
  },
  {
   "cell_type": "code",
   "execution_count": 27,
   "id": "e4e7d0e1-04f3-4f95-9d67-2873289268ae",
   "metadata": {},
   "outputs": [
    {
     "data": {
      "image/png": "[encoded data removed]",
      "text/plain": [
       "<Figure size 720x576 with 2 Axes>"
      ]
     },
     "metadata": {
      "needs_background": "light"
     },
     "output_type": "display_data"
    }
   ],
   "source": [
    "plt.figure(figsize=(10, 8))\n",
    "sns.heatmap(correlation_matrix, annot=True, cmap='coolwarm', fmt=\".2f\", linewidths=0.5)\n",
    "plt.title('Correlation Matrix Heatmap')\n",
    "plt.show()"
   ]
  },
  {
   "cell_type": "markdown",
   "id": "6b896407-476c-496e-b3b1-c4166c75b918",
   "metadata": {},
   "source": [
    "# Hossam"
   ]
  },
  {
   "cell_type": "code",
   "execution_count": null,
   "id": "855714eb-8b1b-41f5-a420-599fd9ce34b2",
   "metadata": {},
   "outputs": [],
   "source": []
  },
  {
   "cell_type": "code",
   "execution_count": null,
   "id": "fcceedba-ae3a-4320-a806-2509864a5f18",
   "metadata": {},
   "outputs": [],
   "source": []
  },
  {
   "cell_type": "markdown",
   "id": "e19abfdd-6f3a-472b-8744-278916a28fe8",
   "metadata": {},
   "source": [
    "# Abdo"
   ]
  },
  {
   "cell_type": "code",
   "execution_count": null,
   "id": "507f4824-b00f-49c1-b8b9-3bdbd734fe70",
   "metadata": {},
   "outputs": [],
   "source": []
  },
  {
   "cell_type": "code",
   "execution_count": null,
   "id": "5b5142d7",
   "metadata": {},
   "outputs": [],
   "source": []
  },
  {
   "cell_type": "markdown",
   "id": "e2451a59-1d24-46cd-8c19-fdfa8fd734cd",
   "metadata": {},
   "source": [
    "# Youssef"
   ]
  },
  {
   "cell_type": "code",
   "execution_count": null,
   "id": "dcdb960d-364b-44cc-8ee4-06f8ecd73408",
   "metadata": {},
   "outputs": [],
   "source": []
  },
  {
   "cell_type": "code",
   "execution_count": null,
   "id": "dea2454b-1573-40a1-9d3a-ca1e31c7672e",
   "metadata": {},
   "outputs": [],
   "source": []
  },
  {
   "cell_type": "markdown",
   "id": "93033c80-f82e-4df9-b684-ed761f283d2f",
   "metadata": {},
   "source": [
    "# HAMZA"
   ]
  },
  {
   "cell_type": "code",
   "execution_count": null,
   "id": "ca5d1f34-f88b-4f4b-aa12-da6a3967d576",
   "metadata": {},
   "outputs": [],
   "source": []
  },
  {
   "cell_type": "code",
   "execution_count": null,
   "id": "c82edfe9-0ac2-4fda-bcc6-aa68554353f7",
   "metadata": {},
   "outputs": [],
   "source": []
  }
 ],
 "metadata": {
  "kernelspec": {
   "display_name": "Python 3",
   "language": "python",
   "name": "python3"
  },
  "language_info": {
   "codemirror_mode": {
    "name": "ipython",
    "version": 3
   },
   "file_extension": ".py",
   "mimetype": "text/x-python",
   "name": "python",
   "nbconvert_exporter": "python",
   "pygments_lexer": "ipython3",
   "version": "3.11.0"
  }
 },
 "nbformat": 4,
 "nbformat_minor": 5
}
